{
  "cells": [
    {
      "cell_type": "markdown",
      "metadata": {
        "id": "o--JI5xUJIAw"
      },
      "source": [
        "<img src=\"https://nimbus-screenshots.s3.amazonaws.com/s/85a61d1e5ea3b6f4e340944f58844dd2.png\" width=640>\n",
        "\n",
        "</a>\n",
        "# <p style=\"font-family: Arial; font-size:1.4em;color:red;\"> Chapter 4. Repetition Structures </p>"
      ]
    },
    {
      "cell_type": "markdown",
      "metadata": {
        "id": "vHDIzhyEJIAx"
      },
      "source": [
        "***\n",
        "\n",
        "## <p style=\"background-color: grey; color: white \"> ◼️  While loop </p>\n",
        "# <p style=\"font-family: Arial; font-size:1.4em;color:red;\"> 1. Basic While-loop Structures</p>\n"
      ]
    },
    {
      "cell_type": "markdown",
      "metadata": {
        "id": "QgISUShSJIAx"
      },
      "source": [
        "#### <p style=\"font-family: Arial; font-size:1.4em; background-color: yellow; color:black;\"> Problem #1.0 </p>\n",
        "\n",
        "#### Run all the cells and figure out the basic usage of while loop structure"
      ]
    },
    {
      "cell_type": "code",
      "execution_count": 1,
      "metadata": {
        "id": "ZEy3aRvHJIAx",
        "outputId": "3444f542-eb2d-466f-e4f1-d3d7ee05b297",
        "colab": {
          "base_uri": "https://localhost:8080/"
        }
      },
      "outputs": [
        {
          "output_type": "stream",
          "name": "stdout",
          "text": [
            "1 2 3 4 5 6 7 8 9 10 "
          ]
        }
      ],
      "source": [
        "i = 0\n",
        "while (i < 10):\n",
        "\ti = i + 1\n",
        "\tprint (i, end=' ')"
      ]
    },
    {
      "cell_type": "code",
      "execution_count": 2,
      "metadata": {
        "id": "gTXgFqcQJIAy",
        "outputId": "da06f2c9-90ed-4b10-e1bb-e7fed5a22454",
        "colab": {
          "base_uri": "https://localhost:8080/"
        }
      },
      "outputs": [
        {
          "output_type": "stream",
          "name": "stdout",
          "text": [
            "0 1 2 3 4 5 6 7 8 9 "
          ]
        }
      ],
      "source": [
        "i = 0\n",
        "while ( i< 10):\n",
        "\tprint (i, end=' ')\n",
        "\ti = i + 1"
      ]
    },
    {
      "cell_type": "code",
      "execution_count": 3,
      "metadata": {
        "id": "jgwCS3zjJIAy",
        "outputId": "71a1de23-bfc3-4a79-e66d-46140ea050dc",
        "colab": {
          "base_uri": "https://localhost:8080/"
        }
      },
      "outputs": [
        {
          "output_type": "stream",
          "name": "stdout",
          "text": [
            "0 2 4 6 8 "
          ]
        }
      ],
      "source": [
        "i = 0\n",
        "while ( i < 10):\n",
        "\tprint (i, end=' ')\n",
        "\ti = i + 2"
      ]
    },
    {
      "cell_type": "code",
      "execution_count": 4,
      "metadata": {
        "id": "tDF0DC3zJIAy",
        "outputId": "0026530b-c64c-4c93-8ddc-9f3e910064cb",
        "colab": {
          "base_uri": "https://localhost:8080/"
        }
      },
      "outputs": [
        {
          "output_type": "stream",
          "name": "stdout",
          "text": [
            "10 9 8 7 6 5 4 3 2 1 "
          ]
        }
      ],
      "source": [
        "i = 10\n",
        "while ( i > 0):\n",
        "\tprint (i, end=' ')\n",
        "\ti = i - 1"
      ]
    },
    {
      "cell_type": "markdown",
      "metadata": {
        "id": "-xHf_ZbvJIAy"
      },
      "source": [
        "#### <p style=\"font-family: Arial; font-size:1.4em; background-color: yellow; color:black;\"> Problem #1.1 </p>\n",
        "\n",
        "#### Complete the code to print the numbers from 10 to 20 with the step 2 (10, 12, ...20)\n",
        "> Use the while loop"
      ]
    },
    {
      "cell_type": "code",
      "execution_count": 17,
      "metadata": {
        "colab": {
          "base_uri": "https://localhost:8080/"
        },
        "id": "Umg10fZ7JIAy",
        "outputId": "92809fe3-5f3c-4f33-9f69-11df3288d7e5"
      },
      "outputs": [
        {
          "output_type": "stream",
          "name": "stdout",
          "text": [
            "\n"
          ]
        }
      ],
      "source": [
        "begin = 10\n",
        "end = 20\n",
        "\n",
        "while i <= 20: # complete the code\n",
        "    print(i)\n",
        "    i += 2\n",
        "print()"
      ]
    },
    {
      "cell_type": "markdown",
      "metadata": {
        "id": "xvYrQJN7JIAy"
      },
      "source": [
        "#### <p style=\"font-family: Arial; font-size:1.4em; background-color: yellow; color:black;\"> Problem #1.2 </p>\n",
        "\n",
        "#### Complete the code to print the numbers from the input value 'begin' to another input 'end'.\n",
        "> Use the while loop  <br>\n",
        "\n",
        "<font color='red'> Note: the input value 'begin' can be greater than 'end'. <br>\n",
        "if begin > end, print all the values from 'begin' to 'end' in decreasing order\n",
        "</font>"
      ]
    },
    {
      "cell_type": "code",
      "execution_count": null,
      "metadata": {
        "id": "qWT31YGpJIAy"
      },
      "outputs": [],
      "source": [
        "begin = int(input('Enter the starting value: '))\n",
        "end = int(input('Enter the end value: '))\n",
        "\n",
        "# Complete the code to print from begin to end\n",
        "while # complete the code\n"
      ]
    },
    {
      "cell_type": "markdown",
      "metadata": {
        "id": "RryzhuV3JIAy"
      },
      "source": [
        "#### <p style=\"font-family: Arial; font-size:1.4em; background-color: yellow; color:black;\"> Problem #1.3 </p>\n",
        "\n",
        "#### Complete the code to print the 9 multiplication numbers from the given input value 'num'\n",
        "> For example, if the input \"num\" is 3, this code will print <br>\n",
        "> 3 6 9 12 15 18 21 24 27 <br>\n",
        "> Use the while loop  <br>"
      ]
    },
    {
      "cell_type": "code",
      "execution_count": null,
      "metadata": {
        "id": "N_l5iXBBJIAy"
      },
      "outputs": [],
      "source": [
        "num = int(input('Enter a number: '))\n",
        "\n",
        "while # complete the code"
      ]
    },
    {
      "cell_type": "markdown",
      "metadata": {
        "id": "viRroBKeJIAy"
      },
      "source": [
        "#### <p style=\"font-family: Arial; font-size:1.4em; background-color: yellow; color:black;\"> Problem #1.4 </p>\n",
        "\n",
        "#### Complete the code to print all numbers\n",
        "#### from 'start' to 'end' if 'start' < 'end'\n",
        "#### from 'end' to 'start' if 'end' < 'start'\n",
        "> For example, if start = 3, end = 5, it will print 3 4 5 <br>\n",
        "> if start = 10, end = 7, it will print 7 8 9 10  <br>\n",
        "> Use the <font color='red'> while loop </font> <br>"
      ]
    },
    {
      "cell_type": "markdown",
      "metadata": {
        "id": "n5d32jZuJIAy"
      },
      "source": [
        "#### <p style=\"font-family: Arial; font-size:1.4em; background-color: yellow; color:black;\"> Problem #1.5 </p>\n",
        "\n",
        "#### Complete the code to print all numbers\n",
        "#### from 'start' to 'end' if 'start' < 'end'\n",
        "#### from 'end' to 'start' if 'end' < 'start'\n",
        "> For example, if start = 3, end = 5, it will print 3 4 5 <br>\n",
        "> if start = 10, end = 7, it will print 7 8 9 10  <br>\n",
        "> Use the <font color='red'> while loop </font> <br>"
      ]
    },
    {
      "cell_type": "code",
      "execution_count": null,
      "metadata": {
        "id": "bqUfsi6NJIAz"
      },
      "outputs": [],
      "source": [
        "start = int(input('Enter a number: '))\n",
        "end = int(input('Enter a number: '))\n",
        "\n",
        "# complete the code"
      ]
    },
    {
      "cell_type": "markdown",
      "metadata": {
        "id": "e4WS5GdHJIAz"
      },
      "source": [
        "#### <p style=\"font-family: Arial; font-size:1.4em; background-color: yellow; color:black;\"> Problem #1.6 </p>\n",
        "\n",
        "#### Complete the code to get the summation of 1 to the input 'num'\n",
        "> For example, if num = 5, it will print 15 because 1+2+3+4+5=15 <br>\n",
        "> if num = 10, it will print 55 because 1+2+3+4+5+6+7+8+9+10<br>\n",
        "> Use the <font color='red'> while loop </font> <br>"
      ]
    },
    {
      "cell_type": "code",
      "execution_count": null,
      "metadata": {
        "id": "E3OwVg8pJIAz"
      },
      "outputs": [],
      "source": [
        "num = int(input('Enter a number: '))\n",
        "val = 1\n",
        "total = 0\n",
        "while val <= num:\n",
        "    total += val\n",
        "    val += 1\n",
        "print (f'The total from 1 to {num} is {total}')\n",
        ""
      ]
    },
    {
      "cell_type": "markdown",
      "metadata": {
        "id": "-z_BZeoVJIAz"
      },
      "source": [
        "#### <p style=\"font-family: Arial; font-size:1.4em; background-color: yellow; color:black;\"> Problem #1.7 </p>\n",
        "\n",
        "#### Complete the code to get the summation between 'start'(inclusive) and 'end'(inclusive)\n",
        "#### Assume that 'start' < 'end'  \n",
        "> For example, if 'start' = 5, 'end' = 10, it will print 45 because 5+6+7+8+9+10=15 <br>\n",
        "> if 'start' = 10, 'end'= 20,  it will print 165 because 10+11+12+13+14+15+16+17+18+19+20 = 165 <br>\n",
        "> Use the <font color='red'> while loop </font> <br>"
      ]
    },
    {
      "cell_type": "code",
      "execution_count": null,
      "metadata": {
        "id": "OyAW5rn9JIAz",
        "outputId": "d88aac3c-957d-472e-e653-8e31282ad262"
      },
      "outputs": [
        {
          "name": "stdout",
          "output_type": "stream",
          "text": [
            "The total from 10 to 20 is 165\n"
          ]
        }
      ],
      "source": [
        "start = int(input('Enter a number: '))\n",
        "end = int(input('Enter a number: '))\n",
        "\n",
        "# complete the code"
      ]
    },
    {
      "cell_type": "markdown",
      "metadata": {
        "id": "8ZRXdv3FJIAz"
      },
      "source": [
        "#### <p style=\"font-family: Arial; font-size:1.4em; background-color: yellow; color:black;\"> Problem #1.8 </p>\n",
        "\n",
        "#### Complete the code to print all multiplication numbers of 3 between input 'start' and 'end'(inclusive)\n",
        "#### Assume that 'start' < 'end'  \n",
        "> For example, if start = 2, end = 10, it will print 3 6 9 <br>\n",
        "> if start = 12, end = 21, it will print 12 15 18 21  <br>\n",
        "> Use the <font color='red'> while loop </font> <br>"
      ]
    },
    {
      "cell_type": "code",
      "execution_count": null,
      "metadata": {
        "id": "7U2iu-INJIAz",
        "outputId": "2777bfa9-9b3e-4708-ab0e-10df99d5b9e8"
      },
      "outputs": [
        {
          "name": "stdout",
          "output_type": "stream",
          "text": [
            "12\n",
            "15\n",
            "18\n"
          ]
        }
      ],
      "source": [
        "start = int(input('Enter a number: '))\n",
        "end = int(input('Enter a number: '))\n",
        "\n",
        "i = start // 3\n",
        "i += 1 if start % 3 else 0\n",
        "while i*3 <= end:\n",
        "    print (i*3)\n",
        "    i += 1"
      ]
    },
    {
      "cell_type": "markdown",
      "metadata": {
        "id": "hicgHmMeJIAz"
      },
      "source": [
        "#### <p style=\"font-family: Arial; font-size:1.4em; background-color: yellow; color:black;\"> Problem #1.9 </p>\n",
        "\n",
        "#### Complete the code to print all multiplication numbers of 'seed' between input 'start' and 'end'(inclusive)\n",
        "#### Assume that 'seed' is greater than 1\n",
        "#### Assume that 'start' < 'end'. Same as 1.8 except the 'seed'\n",
        "> For example, if start = 2, end = 10, seed=3, it will print 3 6 9 <br>\n",
        "> if start = 12, end = 31, seed = 6, it will print 12 18 24  <br>\n",
        "> Use the <font color='red'> while loop </font> <br>"
      ]
    },
    {
      "cell_type": "code",
      "execution_count": null,
      "metadata": {
        "id": "3e6fcxIcJIAz"
      },
      "outputs": [],
      "source": [
        "seed = int(input('Enter the seed number for multiplication: '))\n",
        "start = int(input('Enter a number: '))\n",
        "end = int(input('Enter a number: '))\n",
        "\n",
        "# complete the code"
      ]
    },
    {
      "cell_type": "markdown",
      "metadata": {
        "id": "QcmQwdtvJIAz"
      },
      "source": [
        "#### <p style=\"font-family: Arial; font-size:1.4em; background-color: yellow; color:black;\"> Problem #1.10 </p>\n",
        "\n",
        "#### Complete the code to repeat the input number until the inputted number is greater than 100\n",
        "#### if the input number is greater than 100, stop the while loop\n",
        "#### Otherwise, print the <font color='red'> number </font>\n",
        "> For example, if the series of input is 5 10 15 20 150, <br>\n",
        "> print a input number at each iteration in the while loop, except the 150 <br>\n",
        "> 5 <br> 10 <br> 15<br> 20<br>  \n",
        "> Use the <font color='red'> while loop </font> <br>"
      ]
    },
    {
      "cell_type": "code",
      "execution_count": null,
      "metadata": {
        "id": "Wgy4VbHGJIAz"
      },
      "outputs": [],
      "source": [
        "total = 0\n",
        "number = int(input('Enter a number: '))\n",
        "\n",
        "while number <= 100:\n",
        "    print (number)\n",
        "    number = int(input('Enter a number: '))\n",
        ""
      ]
    },
    {
      "cell_type": "markdown",
      "metadata": {
        "id": "-FZLGp6DJIAz"
      },
      "source": [
        "#### <p style=\"font-family: Arial; font-size:1.4em; background-color: yellow; color:black;\"> Problem #1.11 </p>\n",
        "\n",
        "#### Complete the code to repeat the input of a number until the sum of all input numbers is greater than 100.\n",
        "#### if the sum of all input numbers is greater than 100, stop the while loop\n",
        "#### Otherwise, add the input number to the variable \"<font color='red'> total </font>\"\n",
        "> For example, if the series of input is 5 10 15 20 150, <br>\n",
        "> the total must be 5 + 10 + 15 + 20 + 150 = 200, and stop the while loop   <br>\n",
        "> After the while loop, print the 'total'\n",
        "> Use the <font color='red'> while loop </font> <br>"
      ]
    },
    {
      "cell_type": "code",
      "execution_count": null,
      "metadata": {
        "id": "5IsvzOlDJIA0"
      },
      "outputs": [],
      "source": [
        "number = int(input('Enter a number '))\n",
        "total = 0\n",
        "while total <= 100:\n",
        "    # complete the code\n",
        "    number = int(input('Enter a number '))\n",
        "print (f'The total of input numbers are {total}')"
      ]
    },
    {
      "cell_type": "markdown",
      "metadata": {
        "id": "2cxej7xlJIA0"
      },
      "source": [
        "#### <p style=\"font-family: Arial; font-size:1.4em; background-color: yellow; color:black;\"> Problem #1.12</p>\n",
        "\n",
        "#### Complete the code to print all alphabets between input letters 'start' and 'end'\n",
        "#### 'start' and 'end' letters are inclusive\n",
        "#### Assumption. 'start' and 'end' is lower case letters. All inputs are lower case.\n",
        "> For example, if 'start' is 'a' and 'end' is 'f'  <br>\n",
        "> print 'a', 'b', 'c', 'd', 'e', 'f' <br>\n",
        "> Use the <font color='red'> while loop </font> <br>\n",
        "\n",
        "#### Refer to the following example code to practice the ord() and chr() funtions"
      ]
    },
    {
      "cell_type": "code",
      "execution_count": null,
      "metadata": {
        "id": "jeeKwnmKJIA0",
        "outputId": "5aa649e6-4cc4-4a3f-9592-13346937dd5e"
      },
      "outputs": [
        {
          "name": "stdout",
          "output_type": "stream",
          "text": [
            "97\n",
            "98\n"
          ]
        }
      ],
      "source": [
        "start = 'a'\n",
        "print (ord(start))  # it will print 97, which is ASCII code for the letter 'a'\n",
        "\n",
        "next = ord(start) + 1\n",
        "print (next)  # it will print 97, which is ASCII code for the letter 'b'"
      ]
    },
    {
      "cell_type": "code",
      "execution_count": null,
      "metadata": {
        "id": "rc-nI6JVJIA0",
        "outputId": "c6800443-89f5-4fd6-dd8a-780020b42c40"
      },
      "outputs": [
        {
          "data": {
            "text/plain": [
              "('s', 'i', 'b')"
            ]
          },
          "execution_count": 25,
          "metadata": {},
          "output_type": "execute_result"
        }
      ],
      "source": [
        "chr(115), chr(105), chr(98)     # by using the ASCII code 115, we can convert it as a character"
      ]
    },
    {
      "cell_type": "code",
      "execution_count": null,
      "metadata": {
        "id": "xNNiit3jJIA0",
        "outputId": "802c0a89-dcb8-4dfb-858c-289f2787082f"
      },
      "outputs": [
        {
          "name": "stdout",
          "output_type": "stream",
          "text": [
            "b\n"
          ]
        }
      ],
      "source": [
        "start = 'a'\n",
        "next = ord(start) + 1\n",
        "print (chr(next))"
      ]
    },
    {
      "cell_type": "code",
      "execution_count": null,
      "metadata": {
        "id": "1rJ3uvDxJIA0"
      },
      "outputs": [],
      "source": [
        "start = input('Enter a starting letter: ')\n",
        "end = input('Enter a starting letter: ')\n",
        "\n",
        "# complete your code to print all the letters between 'start' and 'end'\n",
        "\n"
      ]
    },
    {
      "cell_type": "markdown",
      "metadata": {
        "id": "puRsfA3EJIA0"
      },
      "source": [
        "***"
      ]
    },
    {
      "cell_type": "markdown",
      "metadata": {
        "id": "Jc98cN9rJIA0"
      },
      "source": [
        "#### Loop until the character 'q' is entered"
      ]
    },
    {
      "cell_type": "code",
      "execution_count": null,
      "metadata": {
        "id": "DhArI18sJIA0",
        "outputId": "a5bf8d97-85f4-478d-d972-9ae785f3bd05"
      },
      "outputs": [
        {
          "name": "stdout",
          "output_type": "stream",
          "text": [
            "a\tb\tc\t"
          ]
        }
      ],
      "source": [
        "user_val = input('Enter a character')\n",
        "while ( user_val != 'q' ):\n",
        "\tprint ( user_val, end='\\t')\n",
        "\tuser_val = input('Enter a character')\n"
      ]
    },
    {
      "cell_type": "code",
      "execution_count": null,
      "metadata": {
        "id": "ZxczMsbmJIA0",
        "outputId": "1ec27b05-a075-47f7-9577-afb93b106058"
      },
      "outputs": [
        {
          "name": "stdout",
          "output_type": "stream",
          "text": [
            "Invalid Input. Try again\n",
            "Invalid Input. Try again\n",
            " user input is  5\n"
          ]
        }
      ],
      "source": [
        "user_num = int(input('Enter your number'))\n",
        "while ( user_num < 0 or user_num > 10):\n",
        "\tprint (\"Invalid Input. Try again\")\n",
        "\tuser_num = int(input('Enter your number'))\n",
        "print (\" user input is \", user_num)\n"
      ]
    },
    {
      "cell_type": "markdown",
      "metadata": {
        "id": "t1h3wo8JJIA0"
      },
      "source": [
        "## Don't forget to <font color='red'> **\"commit\"** </font> your work or <font color='red'> **\"save\"** </font> in Google Colab\n",
        "## before moving to the next section."
      ]
    },
    {
      "cell_type": "markdown",
      "metadata": {
        "id": "OHxcIa4ZJIA0"
      },
      "source": [
        "***\n",
        "## <p style=\"background-color: grey; color: white \">  ◼️ For loop </p>\n",
        "# <p style=\"font-family: Arial; font-size:1.4em;color:red;\"> 2. Basic For-loop Structures</p>"
      ]
    },
    {
      "cell_type": "markdown",
      "metadata": {
        "id": "uJQ2KGiUJIA0"
      },
      "source": [
        "#### <p style=\"font-family: Arial; font-size:1.4em; background-color: yellow; color:black;\"> Problem #2.1</p>\n",
        "#### Complete the following code cells and figure out the syntax of for-loop"
      ]
    },
    {
      "cell_type": "markdown",
      "metadata": {
        "id": "tMsFLKjwJIA1"
      },
      "source": [
        "##### Basic Syntax of For-Loop"
      ]
    },
    {
      "cell_type": "code",
      "execution_count": null,
      "metadata": {
        "id": "tfbdVcndJIA1"
      },
      "outputs": [],
      "source": [
        "for i in range(10):\n",
        "    print (i, end = ' ')"
      ]
    },
    {
      "cell_type": "code",
      "execution_count": null,
      "metadata": {
        "id": "KUFwQLMxJIA1"
      },
      "outputs": [],
      "source": [
        "for num in range(5):\n",
        "\tprint (num, end=' ')"
      ]
    },
    {
      "cell_type": "markdown",
      "metadata": {
        "id": "oSA2Kp3OJIA1"
      },
      "source": [
        "##### Complete this code to print 0 to <font color='red'> 10</font> with for-loop"
      ]
    },
    {
      "cell_type": "code",
      "execution_count": null,
      "metadata": {
        "id": "HW5tR7s8JIA1"
      },
      "outputs": [],
      "source": [
        "for val # complete the code\n",
        "    print (val, end=' ')"
      ]
    },
    {
      "cell_type": "markdown",
      "metadata": {
        "id": "E7rJH10jJIA1"
      },
      "source": [
        "#### <p style=\"font-family: Arial; font-size:1.4em; background-color: yellow; color:black;\"> Problem #2.2: with steps</p>\n",
        "#### Complete the following code cells and check out the results"
      ]
    },
    {
      "cell_type": "code",
      "execution_count": null,
      "metadata": {
        "id": "fB9RQbE1JIA1"
      },
      "outputs": [],
      "source": [
        "for i in range(0, 10):\n",
        "    print (i)"
      ]
    },
    {
      "cell_type": "code",
      "execution_count": null,
      "metadata": {
        "id": "QQKoR3PFJIA1"
      },
      "outputs": [],
      "source": [
        "for i in range(1,10):\n",
        "    print (i)"
      ]
    },
    {
      "cell_type": "code",
      "execution_count": null,
      "metadata": {
        "id": "lVKnRUAGJIA1"
      },
      "outputs": [],
      "source": [
        "for i in range(5,10):\n",
        "    print (i)"
      ]
    },
    {
      "cell_type": "code",
      "execution_count": null,
      "metadata": {
        "id": "gJSGYOVWJIA1"
      },
      "outputs": [],
      "source": [
        "for i in range(0, 10, 2):\n",
        "    print (i)"
      ]
    },
    {
      "cell_type": "code",
      "execution_count": null,
      "metadata": {
        "id": "7pPErFRrJIA1"
      },
      "outputs": [],
      "source": [
        "for i in range(5, 25, 5):\n",
        "    print (i)"
      ]
    },
    {
      "cell_type": "markdown",
      "metadata": {
        "id": "q1zZeDXuJIA1"
      },
      "source": [
        "Complete the code to print 10, 12, 14, 16, 18, 20"
      ]
    },
    {
      "cell_type": "code",
      "execution_count": null,
      "metadata": {
        "id": "F5uq4cTGJIA1"
      },
      "outputs": [],
      "source": [
        "for i in # complete the code"
      ]
    },
    {
      "cell_type": "markdown",
      "metadata": {
        "id": "RkcMqK4qJIA1"
      },
      "source": [
        "#### <p style=\"font-family: Arial; font-size:1.4em; background-color: yellow; color:black;\"> Problem #2.3: decreasing</p>\n",
        "#### Complete the following code cells and check out the results"
      ]
    },
    {
      "cell_type": "code",
      "execution_count": null,
      "metadata": {
        "id": "dpLo-aliJIA1"
      },
      "outputs": [],
      "source": [
        "for i in range(10, 0): # not working\n",
        "    print (i)\n"
      ]
    },
    {
      "cell_type": "code",
      "execution_count": null,
      "metadata": {
        "id": "vD68dT4FJIA1"
      },
      "outputs": [],
      "source": [
        "for i in range(10, 0, -1):\n",
        "    print (i)"
      ]
    },
    {
      "cell_type": "code",
      "execution_count": null,
      "metadata": {
        "id": "439Z4JAkJIA1"
      },
      "outputs": [],
      "source": [
        "for i in range(10, 0, -2):\n",
        "    print (i)"
      ]
    },
    {
      "cell_type": "markdown",
      "metadata": {
        "id": "ui4ecfkzJIA1"
      },
      "source": [
        "Complete the code to print 15, 12, 9, 6, 3, 0"
      ]
    },
    {
      "cell_type": "code",
      "execution_count": null,
      "metadata": {
        "id": "kjhOej5FJIA1"
      },
      "outputs": [],
      "source": [
        "for i in # complete the code\n",
        "    print (i)"
      ]
    },
    {
      "cell_type": "markdown",
      "metadata": {
        "id": "GOnVW4mZJIA1"
      },
      "source": [
        "#### <p style=\"font-family: Arial; font-size:1.4em; background-color: yellow; color:black;\"> Problem #2.4: list values in for-loop</p>\n",
        "#### Complete the following code cells and check out the results"
      ]
    },
    {
      "cell_type": "markdown",
      "metadata": {
        "id": "Li1X6Eb7JIA1"
      },
      "source": [
        "#### List can be used for-loop to iterate all elements\n",
        "```\n",
        "for val in [0,1,2,3,4]:\n",
        "    print (val)\n",
        "```"
      ]
    },
    {
      "cell_type": "code",
      "execution_count": null,
      "metadata": {
        "id": "VLLSazUeJIA2"
      },
      "outputs": [],
      "source": [
        "for val in [0,1,2,3,4]:\n",
        "    print (val)"
      ]
    },
    {
      "cell_type": "code",
      "execution_count": null,
      "metadata": {
        "id": "Gzjc_1iAJIA2"
      },
      "outputs": [],
      "source": [
        "for str in ['Java', 'Python', 'C++', 'R', 'Ruby', 'Java Script']:\n",
        "\tprint (str, end=' ')"
      ]
    },
    {
      "cell_type": "code",
      "execution_count": null,
      "metadata": {
        "id": "UQSvhbkTJIA2"
      },
      "outputs": [],
      "source": [
        "for val in [10, 20, 30]:\n",
        "\tprint (val)\n",
        "\n",
        "listval = [10, 20, 30]\n",
        "for val in listval:\n",
        "\tprint (val)\n",
        "\n",
        ""
      ]
    },
    {
      "cell_type": "markdown",
      "metadata": {
        "id": "a9rQ9NnkJIA2"
      },
      "source": [
        "Complete the code to get the summation of 5 user input values"
      ]
    },
    {
      "cell_type": "code",
      "execution_count": null,
      "metadata": {
        "id": "6LXbQE4WJIA2"
      },
      "outputs": [],
      "source": [
        "total  = 0\n",
        "for  i in range(5):\n",
        "\tuser_num = int(input('Enter your num'))\n",
        "\ttotal += user_num\n",
        "print (\"Summation is\", total)\n"
      ]
    },
    {
      "cell_type": "markdown",
      "metadata": {
        "id": "sjKSne7OJIA2"
      },
      "source": [
        "Compare the while-loop version to for-loop"
      ]
    },
    {
      "cell_type": "code",
      "execution_count": null,
      "metadata": {
        "id": "urv4pef_JIA2"
      },
      "outputs": [],
      "source": [
        "sum = 0\n",
        "i = 0\n",
        "while (i < 5):\n",
        "\tuser_num = int(input('Enter your num'))\n",
        "\tsum += user_num\n",
        "\ti += 1\n",
        "print (\"Summation is\", sum)\n"
      ]
    },
    {
      "cell_type": "code",
      "execution_count": null,
      "metadata": {
        "id": "_wXeH1diJIA2"
      },
      "outputs": [],
      "source": [
        "i = 0\n",
        "\n",
        "while True:\n",
        "\ti += 1\n",
        "\tprint (i)\n",
        "\tif ( i > 10):\n",
        "\t\tbreak\n"
      ]
    },
    {
      "cell_type": "markdown",
      "metadata": {
        "id": "BrUmGmzFJIA2"
      },
      "source": [
        "### Calculating Running Total"
      ]
    },
    {
      "cell_type": "code",
      "execution_count": null,
      "metadata": {
        "id": "N_lz1FK3JIA2",
        "outputId": "fc7f02a9-fb2c-44a6-898f-f87e7147ca1b"
      },
      "outputs": [
        {
          "name": "stdout",
          "output_type": "stream",
          "text": [
            "Total 15\n"
          ]
        }
      ],
      "source": [
        "sum = 0\n",
        "for i in range(5):\n",
        "\tnumber = int(input('Enter your number'))\n",
        "\tsum += number\n",
        "print ('Total {0}'.format(sum))"
      ]
    },
    {
      "cell_type": "markdown",
      "metadata": {
        "id": "e0gSEDcRJIA2"
      },
      "source": [
        "##### While-loop version"
      ]
    },
    {
      "cell_type": "code",
      "execution_count": null,
      "metadata": {
        "id": "OqQY7q73JIA2"
      },
      "outputs": [],
      "source": [
        "i = 0\n",
        "while (i < 5):\n",
        "\tnumber = int(input('Enter your number'))\n",
        "\tsum += number\n",
        "\ti += 1\n",
        "print ('Total {0}'.format(sum))"
      ]
    },
    {
      "cell_type": "markdown",
      "metadata": {
        "id": "q4nDWKGUJIA2"
      },
      "source": [
        "### 👉 Complete the code to get the summation of 5 user input values with for-loop"
      ]
    },
    {
      "cell_type": "code",
      "execution_count": null,
      "metadata": {
        "id": "Mec8WK-iJIA2"
      },
      "outputs": [],
      "source": [
        "for # complete the code"
      ]
    },
    {
      "cell_type": "markdown",
      "metadata": {
        "id": "5ke2DGKEJIA2"
      },
      "source": [
        "### 👉 Complete the code to calculate the sum of 10 user input <font color='red'> even </font> values."
      ]
    },
    {
      "cell_type": "code",
      "execution_count": null,
      "metadata": {
        "id": "lcoOjsnqJIA2"
      },
      "outputs": [],
      "source": [
        "for # complete the code"
      ]
    },
    {
      "cell_type": "markdown",
      "metadata": {
        "id": "ANT0wPIvJIA2"
      },
      "source": [
        "#### What is the main difference between for-loop and while-loop?\n",
        "#### In which case the while-loop has advantage?"
      ]
    },
    {
      "cell_type": "markdown",
      "metadata": {
        "id": "IsHDbzNvJIA2"
      },
      "source": [
        "#####  💯 Make your answer here with MD syntax\n",
        "- bullet\n",
        "> code\n",
        "<font color='red'> MD syntax example </font>"
      ]
    },
    {
      "cell_type": "markdown",
      "metadata": {
        "id": "MdPJ_G1bJIA2"
      },
      "source": [
        "## Don't forget to <font color='red'> **\"commit\"** </font> your work or <font color='red'> **\"save\"** </font> in Google Colab\n",
        "## before moving to the next section."
      ]
    },
    {
      "cell_type": "markdown",
      "metadata": {
        "id": "vpQDuTRVJIA2"
      },
      "source": [
        "***\n",
        "## <p style=\"background-color: grey; color: white\">  ◼️ Random Numbers </p>\n",
        "# <p style=\"font-family: Arial; font-size:1.4em;color:red;\"> 3. Random Numbers </p>"
      ]
    },
    {
      "cell_type": "markdown",
      "metadata": {
        "id": "HiBnpZt-JIA2"
      },
      "source": [
        "#### To create the Random Numbers, import the random module first\n",
        "> <font color='red'> import random </font>"
      ]
    },
    {
      "cell_type": "markdown",
      "metadata": {
        "id": "jgQCyIvbJIA2"
      },
      "source": [
        "#### Random module supports the varous functions to generate random numbers\n",
        "#### Here is the link to learn more about \"Random\" module\n",
        "[Manual for Random Modlue](https://docs.python.org/3/library/random.html)\n",
        "\n",
        "In this first example, we will use only \"randint()\" function"
      ]
    },
    {
      "cell_type": "code",
      "execution_count": null,
      "metadata": {
        "id": "w0dUjYUhJIA2",
        "outputId": "b6e41323-799f-4ef3-c905-eb890b59a406"
      },
      "outputs": [
        {
          "data": {
            "text/plain": [
              "54"
            ]
          },
          "execution_count": 40,
          "metadata": {},
          "output_type": "execute_result"
        }
      ],
      "source": [
        "import random\n",
        "\n",
        "randnum = random.randint(0, 100) # will return a random number between 0 and 100 (inclusive)\n",
        "randnum"
      ]
    },
    {
      "cell_type": "code",
      "execution_count": null,
      "metadata": {
        "id": "tABvyqfDJIA3",
        "outputId": "b0a8a7db-ed71-479d-9d58-269968950923"
      },
      "outputs": [
        {
          "name": "stdout",
          "output_type": "stream",
          "text": [
            "The generated random number is 6, 5 and 5\n"
          ]
        }
      ],
      "source": [
        "rdnum1 = random.randint(0,10)\n",
        "rdnum2 = random.randint(0,10)\n",
        "rdnum3 = random.randint(0,10)\n",
        "\n",
        "print (f'The generated random number is {rdnum1}, {rdnum2} and {rdnum3}')"
      ]
    },
    {
      "cell_type": "markdown",
      "metadata": {
        "id": "YuXwOwbtJIA3"
      },
      "source": [
        "#### <p style=\"font-family: Arial; font-size:1.4em; background-color: yellow; color:black;\"> Problem #3.1:  Random number</p>"
      ]
    },
    {
      "cell_type": "markdown",
      "metadata": {
        "id": "itn6EfjWJIA3"
      },
      "source": [
        "#### Complete the code to generate the random number between 10 and 20"
      ]
    },
    {
      "cell_type": "code",
      "execution_count": null,
      "metadata": {
        "id": "z1NxXuCBJIA3"
      },
      "outputs": [],
      "source": [
        "# complete the code"
      ]
    },
    {
      "cell_type": "markdown",
      "metadata": {
        "id": "O2IN-6e_JIA3"
      },
      "source": [
        "#### Complete the code to generate 5 random number between 10 and 20 using for loop\n"
      ]
    },
    {
      "cell_type": "code",
      "execution_count": null,
      "metadata": {
        "id": "A9bhff8aJIA3",
        "outputId": "2fdc6f8c-25ff-46df-d65f-b3f7601bbf2e"
      },
      "outputs": [
        {
          "name": "stdout",
          "output_type": "stream",
          "text": [
            "18 18 11 15 10 "
          ]
        }
      ],
      "source": [
        "for i in range(5):\n",
        "    rdnum = random.randint(10, 20)\n",
        "    print (rdnum, end=' ')"
      ]
    },
    {
      "cell_type": "markdown",
      "metadata": {
        "id": "Ra4Yg9PDJIA3"
      },
      "source": [
        "#### <p style=\"font-family: Arial; font-size:1.4em; background-color: yellow; color:black;\"> Problem #3.2  </p>\n",
        "#### Complete the code to generate 5 radom numbers between 10 and 20, and calculate the sum of all random numbers\n",
        "##### ✓ No need to use the \"list\" data type."
      ]
    },
    {
      "cell_type": "code",
      "execution_count": null,
      "metadata": {
        "id": "9JfqtHVAJIA3"
      },
      "outputs": [],
      "source": [
        "# complete the code here"
      ]
    },
    {
      "cell_type": "markdown",
      "metadata": {
        "id": "x6o17VjUJIA3"
      },
      "source": [
        "#### <p style=\"font-family: Arial; font-size:1.4em; background-color: yellow; color:black;\"> Problem #3.3  </p>\n",
        "#### Complete the code to generate 5 radom numbers between 0 and 10, and find the greatest number\n",
        "##### ✓ No need to use the \"list\" data type."
      ]
    },
    {
      "cell_type": "code",
      "execution_count": null,
      "metadata": {
        "id": "JK77n3IWJIA3",
        "outputId": "4660dc39-3a2d-4284-e232-03420cc0b2d2"
      },
      "outputs": [
        {
          "name": "stdout",
          "output_type": "stream",
          "text": [
            "8 1 6 7 4 \n",
            "The greatest random number is 8\n"
          ]
        }
      ],
      "source": [
        "for i in range(5):\n",
        "    rdnum = random.randint(0,10)\n",
        "    if i == 0: # if it is the first iteration\n",
        "        maxval = rdnum # We assume that the first rdnum is greatest number\n",
        "    if rdnum > maxval:  # if the next rdnum is greater than the current maxval, keep it as maxval\n",
        "        maxval = rdnum\n",
        "    print (rdnum, end=' ')\n",
        "\n",
        "print (f'\\nThe greatest random number is {maxval}')"
      ]
    },
    {
      "cell_type": "markdown",
      "metadata": {
        "id": "QkF_THO8JIA3"
      },
      "source": [
        "#### <p style=\"font-family: Arial; font-size:1.4em; background-color: yellow; color:black;\"> Problem #3.4  </p>\n",
        "#### Complete the code to generate 5 radom numbers between 0 and 10, and find the least number\n",
        "##### ✓ No need to use the \"list\" data type."
      ]
    },
    {
      "cell_type": "code",
      "execution_count": null,
      "metadata": {
        "id": "nbQlMGnnJIA3"
      },
      "outputs": [],
      "source": [
        "# complete the code here"
      ]
    },
    {
      "cell_type": "markdown",
      "metadata": {
        "id": "RObk6vAMJIA3"
      },
      "source": [
        "#### <p style=\"font-family: Arial; font-size:1.4em; background-color: yellow; color:black;\"> Problem #3.5  </p>\n",
        "#### Write a program that generates a random number between 0 and 100 repeatedly.\n",
        "#### The while loop will stop if it is greater than the immediate preceding random number.\n",
        "##### ✓ No need to use the \"list\" data type. <br>"
      ]
    },
    {
      "cell_type": "code",
      "execution_count": null,
      "metadata": {
        "id": "IF5gzY7BJIA3"
      },
      "outputs": [],
      "source": [
        "import random\n",
        "flag = 1\n",
        "prev_num = 101\n",
        "while (flag):\n",
        "\tcurrent_num = random.randint(0,100)\n",
        "\tprint (current_num, end = ' ')\n",
        "\tif ( current_num > prev_num):\n",
        "\t\tflag = 0;\n",
        "\tprev_num = current_num\n"
      ]
    },
    {
      "cell_type": "markdown",
      "metadata": {
        "id": "LzcP93t5JIA3"
      },
      "source": [
        "## Don't forget to <font color='red'> **\"commit\"** </font> your work or <font color='red'> **\"save\"** </font> in Google Colab\n",
        "## before moving to the next section."
      ]
    },
    {
      "cell_type": "markdown",
      "metadata": {
        "id": "ehcGXyzrJIA3"
      },
      "source": [
        "***\n",
        "## <p style=\"background-color: grey; color: white\">  ◼️ List and For loop </p>\n",
        "# <p style=\"font-family: Arial; font-size:1.4em;color:red;\"> 4. List and For loop </p>"
      ]
    },
    {
      "cell_type": "markdown",
      "metadata": {
        "id": "cnPz9JUsJIA3"
      },
      "source": [
        "#### list is the data type that can hold the multiple values as a element\n",
        "#### For example\n",
        "> <code> mylist = [10, 20, 30, 40, 50] </code>\n",
        "\n",
        "#### Each element can be accessed by using index, for example, to access the 2nd element\n",
        "> <code> mylist[1]   # it will print the value 20 </code>"
      ]
    },
    {
      "cell_type": "code",
      "execution_count": null,
      "metadata": {
        "id": "9JvXJZFDJIA3"
      },
      "outputs": [],
      "source": [
        "mylist = [10, 20, 30, 40, 50]\n",
        "print (mylist[0])\n",
        "print (mylist[1])\n",
        "print (mylist[2])\n",
        "print (mylist[3])\n",
        "print (mylist[4])"
      ]
    },
    {
      "cell_type": "code",
      "execution_count": null,
      "metadata": {
        "id": "6FNo3oPcJIA3"
      },
      "outputs": [],
      "source": [
        "mylist = [10, 20, 30, 40, 50]\n",
        "total = mylist[0] + mylist[1] + mylist[2] + mylist[3] + mylist[4]\n",
        "print (total)"
      ]
    },
    {
      "cell_type": "markdown",
      "metadata": {
        "id": "e3ckOXwyJIA3"
      },
      "source": [
        "#### Print all elements in the list"
      ]
    },
    {
      "cell_type": "code",
      "execution_count": null,
      "metadata": {
        "id": "uVE2W-J3JIA3"
      },
      "outputs": [],
      "source": [
        "mylist = [10, 20, 30, 40, 50]\n",
        "for idx in range(5):\n",
        "\tprint (mylist[idx], end=' ')"
      ]
    },
    {
      "cell_type": "markdown",
      "metadata": {
        "id": "lVkCNtWKJIA4"
      },
      "source": [
        "#### Print all elements in reverse order in the list"
      ]
    },
    {
      "cell_type": "code",
      "execution_count": null,
      "metadata": {
        "id": "aE2kDOrHJIA4"
      },
      "outputs": [],
      "source": [
        "mylist = [10, 20, 30, 40, 50]\n",
        "for idx in range(4, -1, -1):\n",
        "\tprint (mylist[idx], end=' ')"
      ]
    },
    {
      "cell_type": "markdown",
      "metadata": {
        "id": "hBO6UJ3JJIA4"
      },
      "source": [
        "#### Print all elements in reverse order by using the \"reversed()\" function"
      ]
    },
    {
      "cell_type": "code",
      "execution_count": null,
      "metadata": {
        "id": "CKe-xu82JIA4"
      },
      "outputs": [],
      "source": [
        "for i in reversed(range(5)):\n",
        "    print (i, end=' ')  # it will print 4 3 2 1 0, # Now you can these sequence to access the elements"
      ]
    },
    {
      "cell_type": "code",
      "execution_count": null,
      "metadata": {
        "id": "mW9JSioNJIA4",
        "outputId": "a9d83ce9-4ab5-4a15-c96e-13b108cf7e4d"
      },
      "outputs": [
        {
          "name": "stdout",
          "output_type": "stream",
          "text": [
            "100 88 77 56 45 "
          ]
        }
      ],
      "source": [
        "mylist = [10, 20, 30, 40, 50]\n",
        "for idx in reversed(range(5)):\n",
        "\tprint (mylist[idx], end=' ')"
      ]
    },
    {
      "cell_type": "markdown",
      "metadata": {
        "id": "zJA8nA0IJIA4"
      },
      "source": [
        "#### Accessing each element directly without index in the for-loop"
      ]
    },
    {
      "cell_type": "code",
      "execution_count": null,
      "metadata": {
        "id": "mFkUE6m2JIA4"
      },
      "outputs": [],
      "source": [
        "mylist = [11, 22, 33, 44, 55]\n",
        "\n",
        "for v in mylist:        # the variable v will be each element in the repetition.\n",
        "    print (v, end=' ')\n"
      ]
    },
    {
      "cell_type": "markdown",
      "metadata": {
        "id": "v3U4UclgJIA4"
      },
      "source": [
        "#### <p style=\"font-family: Arial; font-size:1.4em; background-color: yellow; color:black;\"> Problem #4.1  </p>\n",
        "#### Calculate the sum of all elements using for-loop\n",
        "#### Do not use the function sum(). Need to practice the for-loop and develop your algorithm"
      ]
    },
    {
      "cell_type": "code",
      "execution_count": null,
      "metadata": {
        "id": "GnVw6MlAJIA4"
      },
      "outputs": [],
      "source": [
        "\n",
        "mylist = [10, 20, 30, 40, 50]\n",
        "total = 0\n",
        "\n",
        "# Complete the code"
      ]
    },
    {
      "cell_type": "markdown",
      "metadata": {
        "id": "8Py3zomPJIA4"
      },
      "source": [
        "#### <p style=\"font-family: Arial; font-size:1.4em; background-color: yellow; color:black;\"> Problem #4.2  </p>\n",
        "#### Find the least number in the list.\n",
        "#### Do not use the function <font color='red'>min() </font>. <br> Need to practice the for-loop and develop your algorithm\n",
        "#### Follow the algorithm steps to find the least number\n",
        "> 1) Assume that the 1st element is the least number    \n",
        ">> <code> minval = mylist[0] </code>\n",
        "> 2) Iterate all elements from 2nd to the last\n",
        ">> <code> for i in range(len(mylist)): </code>\n",
        "> 3) If any element in the list is less than the current, replace the minval with the current element\n",
        ">> <code> if mylist[i] < minval: </code>\n",
        ">>> <code> minval = mylist[i] </code>"
      ]
    },
    {
      "cell_type": "code",
      "execution_count": null,
      "metadata": {
        "id": "3px8-bUdJIA4"
      },
      "outputs": [],
      "source": [
        "mylist = [10, 20, 30, 40, 50]\n",
        "# complete your code\n"
      ]
    },
    {
      "cell_type": "markdown",
      "metadata": {
        "id": "6VSkOfhNJIA4"
      },
      "source": [
        "#### <p style=\"font-family: Arial; font-size:1.4em; background-color: yellow; color:black;\"> Problem #4.3  </p>\n",
        "#### Complete the code that determines whether the input value is in the list or not\n",
        "#### Do not use the operator <font color='red'>in </font>. <br> Need to practice the for-loop and develop your algorithm\n",
        "> input number <br>\n",
        "> for each element in the list <br>\n",
        ">> compare input number to each element <br>\n",
        ">> if two values are same, print True <br>"
      ]
    },
    {
      "cell_type": "code",
      "execution_count": null,
      "metadata": {
        "id": "zsjhMl3-JIA4"
      },
      "outputs": [],
      "source": [
        "target = int(input('Enter a number: '))\n",
        "\n",
        "for # complete the code"
      ]
    },
    {
      "cell_type": "markdown",
      "metadata": {
        "id": "JLNy2AxBJIA4"
      },
      "source": [
        "## Don't forget to <font color='red'> **\"commit\"** </font> your work or <font color='red'> **\"save\"** </font> in Google Colab\n",
        "## before moving to the next section."
      ]
    },
    {
      "cell_type": "markdown",
      "metadata": {
        "id": "N_kT9a1lJIA4"
      },
      "source": [
        "***\n",
        "## <p style=\"background-color: grey; color: white\">  ◼️ Break and Continue </p>\n",
        "# <p style=\"font-family: Arial; font-size:1.4em;color:red;\"> 5. Break and Continue </p>\n",
        "\n",
        "\n",
        "#### In programming, the break and continue statements are used to alter the flow of loops:\n",
        "<ul>\n",
        "\t<li><code>break</code> exits the loop entirely</li>\n",
        "\t<li><code>continue</code> skips the current iteration and proceeds to the next one</li>\n",
        "</ul>"
      ]
    },
    {
      "cell_type": "markdown",
      "metadata": {
        "id": "zAjeV4oxJIA4"
      },
      "source": [
        "### Example code: Before run the below cell, guess the value of i after for loop"
      ]
    },
    {
      "cell_type": "code",
      "execution_count": null,
      "metadata": {
        "id": "z9wEhzYDJIA4"
      },
      "outputs": [],
      "source": [
        "for i in range(5):\n",
        "    if i == 3:\n",
        "        break\n",
        "print (i)       # value i? why?"
      ]
    },
    {
      "cell_type": "markdown",
      "metadata": {
        "id": "IFhcuUA3JIA4"
      },
      "source": [
        "### Example code: 10 iterations with while-loop and break\n",
        ""
      ]
    },
    {
      "cell_type": "code",
      "execution_count": null,
      "metadata": {
        "id": "yhrjfZPXJIA4"
      },
      "outputs": [],
      "source": [
        "i = 0\n",
        "while True:\n",
        "    if i == 10:\n",
        "        break\n",
        "    print (i, end=' ')\n",
        "    i += 1\n"
      ]
    },
    {
      "cell_type": "markdown",
      "metadata": {
        "id": "X0lSpcdPJIA4"
      },
      "source": [
        "#### <p style=\"font-family: Arial; font-size:1.4em; background-color: yellow; color:black;\"> Problem #5.1  </p>\n",
        "#### Complete the code that input a number until the input value is -1\n",
        "> Use the while loop and break"
      ]
    },
    {
      "cell_type": "code",
      "execution_count": null,
      "metadata": {
        "id": "wAOHjKo2JIA4"
      },
      "outputs": [],
      "source": [
        "while True:\n",
        "    number = int(input('Enter a number: '))\n",
        "    # complete the code\n",
        "    print (number)"
      ]
    },
    {
      "cell_type": "markdown",
      "metadata": {
        "id": "l4H1ib6wJIA4"
      },
      "source": [
        "#### <p style=\"font-family: Arial; font-size:1.4em; background-color: yellow; color:black;\"> Problem #5.2  </p>\n",
        "#### Complete the code that input a word until the input value is 'stop'\n",
        "> Use the while loop and break"
      ]
    },
    {
      "cell_type": "code",
      "execution_count": null,
      "metadata": {
        "id": "jCQfEHrPJIA4"
      },
      "outputs": [],
      "source": [
        "while True:\n",
        "    word = input('Enter a word: ')\n",
        "    if # complete your code\n",
        "    print(word)"
      ]
    },
    {
      "cell_type": "markdown",
      "metadata": {
        "id": "DdDo27HbJIA5"
      },
      "source": [
        "## Don't forget to <font color='red'> **\"commit\"** </font> your work or <font color='red'> **\"save\"** </font> in Google Colab\n",
        "## before moving to the next section."
      ]
    },
    {
      "cell_type": "markdown",
      "metadata": {
        "id": "5e2iLOHLJIA5"
      },
      "source": [
        "***\n",
        "## <p style=\"background-color: grey; color: white\">  ◼️ While-else for-else </p>\n",
        "# <p style=\"font-family: Arial; font-size:1.4em;color:red;\"> 6. while-else for-else </p>\n",
        "### While and for loop also has the \"else\" clause"
      ]
    },
    {
      "cell_type": "markdown",
      "metadata": {
        "id": "EALTMlrDJIA5"
      },
      "source": [
        "#### With the else statement we can run a block of code once when the condition no longer is true:"
      ]
    },
    {
      "cell_type": "code",
      "execution_count": null,
      "metadata": {
        "id": "J2Kgl59GJIA5",
        "outputId": "2fed5c51-5060-4aa9-c9c6-028ec0c61e6e"
      },
      "outputs": [
        {
          "name": "stdout",
          "output_type": "stream",
          "text": [
            "1 2 3 4 5 6 7 8 9 \n",
            "i is no longer less than 10\n"
          ]
        }
      ],
      "source": [
        "i = 1\n",
        "while i < 10:\n",
        "  print(i, end=' ')\n",
        "  i += 1\n",
        "else:\n",
        "  print(\"\\ni is no longer less than 10\")"
      ]
    },
    {
      "cell_type": "markdown",
      "metadata": {
        "id": "2lzN8cwiJIA5"
      },
      "source": [
        "#### What is the difference with the following code?"
      ]
    },
    {
      "cell_type": "markdown",
      "metadata": {
        "id": "yozP9kvMJIA5"
      },
      "source": [
        "There is no difference between two while-loops."
      ]
    },
    {
      "cell_type": "code",
      "execution_count": null,
      "metadata": {
        "id": "Cf3NzGqHJIA5",
        "outputId": "782c0867-1e2c-426e-a44c-4f79c55819ca"
      },
      "outputs": [
        {
          "name": "stdout",
          "output_type": "stream",
          "text": [
            "1 2 3 4 5 6 7 8 9 \n",
            "i is no longer less than 10\n"
          ]
        }
      ],
      "source": [
        "i = 1\n",
        "while i < 10:\n",
        "  print(i, end=' ')\n",
        "  i += 1\n",
        "print(\"\\ni is no longer less than 10\")"
      ]
    },
    {
      "cell_type": "markdown",
      "metadata": {
        "id": "utlnBbYkJIA5"
      },
      "source": [
        "#### <p style=\"font-family: Arial; font-size:1.4em; background-color: yellow; color:black;\"> Problem #6.1  </p>\n",
        "#### Run the following example to see the difference\n",
        "#### At the 1st try, use the input series 10, 15, 20, 25, 30\n",
        "#### At the 2nd try, use the input series 10, 15, -1 <font color='red'> ⚠️ \"else\" part will not be executed"
      ]
    },
    {
      "cell_type": "code",
      "execution_count": null,
      "metadata": {
        "id": "7sO1I8FyJIA5",
        "outputId": "a834dd3a-f61a-421c-a20b-54bb1227e75f"
      },
      "outputs": [
        {
          "name": "stdout",
          "output_type": "stream",
          "text": [
            "1 2 -1 "
          ]
        }
      ],
      "source": [
        "i = 0\n",
        "while i < 5:\n",
        "    number = int(input('Enter a number: '))\n",
        "    print (number, end= ' ')\n",
        "    if number == -1:\n",
        "        break\n",
        "    i += 1\n",
        "else:\n",
        "    print ('Executed while-else part')\n"
      ]
    },
    {
      "cell_type": "markdown",
      "metadata": {
        "id": "j8kKMZwiJIA5"
      },
      "source": [
        "#### <p style=\"font-family: Arial; font-size:1.4em; background-color: yellow; color:black;\"> Problem #6.2  </p>\n",
        "#### Write a code to decide all the elements in the list are positive or not"
      ]
    },
    {
      "cell_type": "markdown",
      "metadata": {
        "id": "g0Pdm0hUJIA5"
      },
      "source": [
        "#### [Version 1]"
      ]
    },
    {
      "cell_type": "code",
      "execution_count": null,
      "metadata": {
        "id": "iZxU-vkIJIA5",
        "outputId": "95116897-c1a3-4968-f8af-8812d74405c6"
      },
      "outputs": [
        {
          "name": "stdout",
          "output_type": "stream",
          "text": [
            "All elements are not positive value\n"
          ]
        }
      ],
      "source": [
        "mylist = [1,2,-3, 4, 5]\n",
        "\n",
        "flag = True\n",
        "for v in mylist:\n",
        "    if v < 0:\n",
        "        flag = False\n",
        "\n",
        "if flag:\n",
        "    print ('All elements are positive value')\n",
        "else:\n",
        "    print ('All elements are not positive value')"
      ]
    },
    {
      "cell_type": "markdown",
      "metadata": {
        "id": "4ki_cb--JIA5"
      },
      "source": [
        "#### [Version 2]\n",
        "#### for-else has advantage when you check the condition \"for all elements\""
      ]
    },
    {
      "cell_type": "code",
      "execution_count": null,
      "metadata": {
        "id": "sx8MK_4kJIA5",
        "outputId": "a7f533e6-e1e5-41dc-f6c9-b386c9fc2c58"
      },
      "outputs": [
        {
          "name": "stdout",
          "output_type": "stream",
          "text": [
            "All elements are not positive value\n"
          ]
        }
      ],
      "source": [
        "mylist = [1,2,-3, 4, 5]\n",
        "\n",
        "for v in mylist:\n",
        "    if v < 0:\n",
        "        print ('All elements are not positive value')\n",
        "        break\n",
        "else:\n",
        "    print ('All elements are positive value')"
      ]
    },
    {
      "cell_type": "markdown",
      "metadata": {
        "id": "Q5g8qQzZJIA5"
      },
      "source": [
        "#### <p style=\"font-family: Arial; font-size:1.4em; background-color: yellow; color:black;\"> Problem #6.3  </p>\n",
        "#### Write a code to determine if the list contains an element that matches the input number"
      ]
    },
    {
      "cell_type": "code",
      "execution_count": null,
      "metadata": {
        "id": "gXY7CJFVJIA5"
      },
      "outputs": [],
      "source": [
        "number = int(input('Enter a number: '))\n",
        "mylist = [10, 12, 14, 16, 18, 20]\n",
        "\n",
        "for i in range(len(mylist)):\n",
        "    if number == mylist[i]:\n",
        "        print (f'The value {number} is in the list')\n",
        "        # complete the code\n",
        "else:\n",
        "    print (f'The value {number} is not in the list')"
      ]
    },
    {
      "cell_type": "markdown",
      "metadata": {
        "id": "IuYgDC9WJIA5"
      },
      "source": [
        "## Don't forget to <font color='red'> **\"commit\"** </font> your work or <font color='red'> **\"save\"** </font> in Google Colab\n",
        "## before moving to the next section."
      ]
    },
    {
      "cell_type": "markdown",
      "metadata": {
        "id": "VwkJvSXhJIA5"
      },
      "source": [
        "***\n",
        "## <p style=\"background-color: grey; color: white\">  ◼️ Input Validation </p>\n",
        "# <p style=\"font-family: Arial; font-size:1.4em;color:red;\"> 7. Input Validation </p>"
      ]
    },
    {
      "cell_type": "markdown",
      "metadata": {
        "id": "WmPl1FYpJIA5"
      },
      "source": [
        "#### Complete the following code segments and run it\n",
        "#### Figure out the code algorithms"
      ]
    },
    {
      "cell_type": "markdown",
      "metadata": {
        "id": "CbfHTN7GJIA5"
      },
      "source": [
        "#### Code that checks whether the input number is between 0 and 100"
      ]
    },
    {
      "cell_type": "code",
      "execution_count": null,
      "metadata": {
        "id": "hbm3P5SLJIA5",
        "outputId": "e253325e-eb1a-4b61-dd58-4c89c3e19910"
      },
      "outputs": [
        {
          "name": "stdout",
          "output_type": "stream",
          "text": [
            "10\n"
          ]
        }
      ],
      "source": [
        "\n",
        "number = int(input('Enter your input'))\n",
        "\n",
        "while ( number < 0 or number > 100):\n",
        "\tnumber = int(input('The input should be between 0 and 100'))\n",
        "\n",
        "print (number)\n"
      ]
    },
    {
      "cell_type": "markdown",
      "metadata": {
        "id": "b-LmJ1PVJIA5"
      },
      "source": [
        "#### Print a character until 'q' is entered\n"
      ]
    },
    {
      "cell_type": "code",
      "execution_count": null,
      "metadata": {
        "id": "SbXTaGwDJIA5",
        "outputId": "04474569-e3f1-4f2f-ecc6-f35de1a4bffb"
      },
      "outputs": [
        {
          "name": "stdout",
          "output_type": "stream",
          "text": [
            "a b d d e s "
          ]
        }
      ],
      "source": [
        "user_char =  input('Enter your character')\n",
        "\n",
        "while( user_char != 'q'):\n",
        "\tprint (user_char, end=' ')\n",
        "\tuser_char =  input('Enter your character')\n"
      ]
    },
    {
      "cell_type": "markdown",
      "metadata": {
        "id": "YcTOfvnoJIA5"
      },
      "source": [
        "#### <p style=\"font-family: Arial; font-size:1.4em; background-color: yellow; color:black;\"> Problem #7.1  </p>\n",
        "#### Complete the code using \"try-except\" clause to decide whether the input causes an \"ValueError\" or not"
      ]
    },
    {
      "cell_type": "markdown",
      "metadata": {
        "id": "FwiHhx0KJIA5"
      },
      "source": [
        "## Try-except statement\n",
        "> learn more about \"try-except\" throught the [link](https://docs.python.org/3/tutorial/errors.html) <br>\n",
        "> [another resource to learn try-except](https://python101.pythonlibrary.org/chapter7_exception_handling.html)\n",
        "#### Try to input the \"non integer value\" like a letter"
      ]
    },
    {
      "cell_type": "code",
      "execution_count": null,
      "metadata": {
        "id": "dK1WFe47JIA5",
        "outputId": "3949851c-2c20-4d1a-fdce-dd5d1359475b"
      },
      "outputs": [
        {
          "name": "stdout",
          "output_type": "stream",
          "text": [
            "Invalid input: Value Error\n",
            "10\n"
          ]
        }
      ],
      "source": [
        "try:\n",
        "\tuser_num = int(input('Enter a number'))\n",
        "except ValueError:\n",
        "\tprint ('Invalid input: Value Error')\n",
        "\n",
        "print (user_num)"
      ]
    },
    {
      "cell_type": "markdown",
      "metadata": {
        "id": "DBfiqbDHJIA6"
      },
      "source": [
        "#### input a number until it is valid"
      ]
    },
    {
      "cell_type": "code",
      "execution_count": null,
      "metadata": {
        "id": "Cc7bVxtDJIA6"
      },
      "outputs": [],
      "source": [
        "while True:\n",
        "\ttry:\n",
        "\t\tuser_num = int(input('Enter a number'))\n",
        "\texcept ValueError:\n",
        "\t\tprint ('Invalid input: Value Error')\n",
        "\t\tcontinue\n",
        "\telse:\n",
        "\t\tprint (user_num)\n",
        "\t\tbreak"
      ]
    },
    {
      "cell_type": "markdown",
      "metadata": {
        "id": "Q0PugrvfJIA6"
      },
      "source": [
        "## Don't forget to <font color='red'> **\"commit\"** </font> your work or <font color='red'> **\"save\"** </font> in Google Colab\n",
        "## before moving to the next section."
      ]
    },
    {
      "cell_type": "markdown",
      "metadata": {
        "id": "JoA_McZxJIA6"
      },
      "source": [
        "***\n",
        "## <p style=\"background-color:grey; color:white\">  ◼️ Nested Loop  </p>\n",
        "# <p style=\"font-family: Arial; font-size:1.4em;color:red;\"> 8. Nested Loop </p>\n",
        "\n",
        "#### Check out the following example codes and figure out the results\n"
      ]
    },
    {
      "cell_type": "markdown",
      "metadata": {
        "id": "W1DpF-i2JIA6"
      },
      "source": [
        "#### All combinations of Set A (0, 1, 2) and Set B (0, 1, 2, 3, 4)\n",
        "```\n",
        "(0, 0) (0, 1) (0, 2) (0, 3) (0, 4)\n",
        "(1, 0) (1, 1) (1, 2) (1, 3) (1, 4)\n",
        "(2, 0) (2, 1) (2, 2) (2, 3) (2, 4)\n",
        "```"
      ]
    },
    {
      "cell_type": "code",
      "execution_count": null,
      "metadata": {
        "id": "8-NVkfTMJIA6"
      },
      "outputs": [],
      "source": [
        "for i in range(3):\n",
        "    for j in range(5):\n",
        "        print (i, j)"
      ]
    },
    {
      "cell_type": "code",
      "execution_count": null,
      "metadata": {
        "id": "0L-D8tdLJIA6"
      },
      "outputs": [],
      "source": [
        "for i in range(3):\n",
        "\tfor j in range(5):\n",
        "\t\tprint (f'({i}, {j})', end=' ')\n",
        "\tprint ()"
      ]
    },
    {
      "cell_type": "markdown",
      "metadata": {
        "id": "5A5jMlT_JIA6"
      },
      "source": [
        "#### <p style=\"font-family: Arial; font-size:1.4em; background-color: yellow; color:black;\"> Problem #8.1  </p>\n",
        "#### Complete the code in the nested for loop to print the result below\n",
        "```\n",
        "(0, 0) (0, 1) (0, 2)\n",
        "(1, 0) (1, 1) (1, 2)\n",
        "(2, 0) (2, 1) (2, 2)\n",
        "(3, 0) (3, 1) (3, 2)\n",
        "(4, 0) (4, 1) (4, 2)\n",
        "```\n"
      ]
    },
    {
      "cell_type": "code",
      "execution_count": null,
      "metadata": {
        "id": "Bh19B7FtJIA6"
      },
      "outputs": [],
      "source": [
        "for i in range(# Complete the code):\n",
        "    for j in range(# Complete the code):\n",
        "        print (f'({i}, {j})', end=' ')\n",
        "    print()"
      ]
    },
    {
      "cell_type": "markdown",
      "metadata": {
        "id": "OuSVT-C7JIA6"
      },
      "source": [
        "#### <p style=\"font-family: Arial; font-size:1.4em; background-color: yellow; color:black;\"> Problem #8.2  </p>\n",
        "#### Complete the code in the nested for loop to print the result below\n",
        "```\n",
        "(0, 0) (0, 1) (0, 2) (0, 3)\n",
        "(1, 0) (1, 1) (1, 2) (1, 3)\n",
        "(2, 0) (2, 1) (2, 2) (2, 3)\n",
        "```\n"
      ]
    },
    {
      "cell_type": "code",
      "execution_count": null,
      "metadata": {
        "id": "55RbAbXQJIA6"
      },
      "outputs": [],
      "source": [
        "for i in range(# Complete the code):\n",
        "    for j in range(# Complete the code):\n",
        "        print (f'({i}, {j})', end=' ')\n",
        "    print()"
      ]
    },
    {
      "cell_type": "markdown",
      "metadata": {
        "id": "cbgNA7NdJIA6"
      },
      "source": [
        "#### <p style=\"font-family: Arial; font-size:1.4em; background-color: yellow; color:black;\"> Problem #8.3  </p>\n",
        "#### Expect the output result before executing the code cell  \n",
        "```\n",
        "Explain the result. why?\n",
        "```\n"
      ]
    },
    {
      "cell_type": "code",
      "execution_count": null,
      "metadata": {
        "id": "-Ws3NWOwJIA6",
        "outputId": "6c26b4c4-9151-448b-e097-f507e85e0697"
      },
      "outputs": [
        {
          "name": "stdout",
          "output_type": "stream",
          "text": [
            "(9,0) (9,1) (9,2) \n",
            "(8,0) (8,1) (8,2) \n",
            "(7,0) (7,1) (7,2) \n"
          ]
        }
      ],
      "source": [
        "for i in range(9,6,-1):\n",
        "\tfor j in range(3):\n",
        "\t\tprint (f'({i},{j})', end=' ')\n",
        "\tprint ()"
      ]
    },
    {
      "cell_type": "markdown",
      "metadata": {
        "id": "lsZpBq9kJIA6"
      },
      "source": [
        "#### Your answer:\n",
        "#### What is the output? Why?\n",
        "***"
      ]
    },
    {
      "cell_type": "code",
      "execution_count": null,
      "metadata": {
        "id": "h2wpWzR-JIA6"
      },
      "outputs": [],
      "source": [
        "for i in range(5):\n",
        "\tfor j in range(i, 5):\n",
        "\t\tprint (f'({i},{j})', end=' ')\n",
        "\tprint()"
      ]
    },
    {
      "cell_type": "markdown",
      "metadata": {
        "id": "AHDYOlmYJIA6"
      },
      "source": [
        "#### Your answer:\n",
        "#### What is the output? Why?\n",
        "***"
      ]
    },
    {
      "cell_type": "code",
      "execution_count": null,
      "metadata": {
        "id": "m9EGa3hvJIA6"
      },
      "outputs": [],
      "source": [
        "for i in range(3):\n",
        "\tfor j in range(i,3):\n",
        "\t\tprint (f'({i},{j})', end=' ')\n",
        "\tprint ( )"
      ]
    },
    {
      "cell_type": "markdown",
      "metadata": {
        "id": "TfOdqWV0JIA6"
      },
      "source": [
        "#### Your answer:\n",
        "#### What is the output? Why?\n",
        "***"
      ]
    },
    {
      "cell_type": "code",
      "execution_count": null,
      "metadata": {
        "id": "X9-HovfMJIA6"
      },
      "outputs": [],
      "source": [
        "for i in range(5):\n",
        "\tfor j in range(0, i):\n",
        "\t\tprint (f'({i},{j})', end=' ')\n",
        "\tprint ( )"
      ]
    }
  ],
  "metadata": {
    "interpreter": {
      "hash": "a614fddea9d37e019a720cc724ab725ff28be4e0e64e91a691a8738e1909110d"
    },
    "kernelspec": {
      "display_name": "Python 3.9.7 64-bit ('base': conda)",
      "language": "python",
      "name": "python3"
    },
    "language_info": {
      "codemirror_mode": {
        "name": "ipython",
        "version": 3
      },
      "file_extension": ".py",
      "mimetype": "text/x-python",
      "name": "python",
      "nbconvert_exporter": "python",
      "pygments_lexer": "ipython3",
      "version": "3.9.17"
    },
    "orig_nbformat": 4,
    "colab": {
      "provenance": []
    }
  },
  "nbformat": 4,
  "nbformat_minor": 0
}